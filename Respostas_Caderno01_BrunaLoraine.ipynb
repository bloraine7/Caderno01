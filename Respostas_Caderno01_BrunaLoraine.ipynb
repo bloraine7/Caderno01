{
  "nbformat": 4,
  "nbformat_minor": 0,
  "metadata": {
    "colab": {
      "provenance": []
    },
    "kernelspec": {
      "name": "python3",
      "display_name": "Python 3"
    },
    "language_info": {
      "name": "python"
    }
  },
  "cells": [
    {
      "cell_type": "code",
      "execution_count": 4,
      "metadata": {
        "colab": {
          "base_uri": "https://localhost:8080/"
        },
        "id": "ncQdRtXMHxS4",
        "outputId": "20010805-6192-43dc-91e7-7b4491651944"
      },
      "outputs": [
        {
          "output_type": "stream",
          "name": "stdout",
          "text": [
            "Python é alto nível!\n",
            "Python é fortemente tipada!\n",
            "Python é multiparadigma!\n",
            "Python é interpretada!\n",
            "É Case Sensitive!\n"
          ]
        }
      ],
      "source": [
        "print (\"Python é alto nível!\")\n",
        "print (\"Python é fortemente tipada!\")\n",
        "print (\"Python é multiparadigma!\")\n",
        "print (\"Python é interpretada!\")\n",
        "print (\"É Case Sensitive!\")"
      ]
    },
    {
      "cell_type": "code",
      "source": [
        "print(\"Estou aprendendo Python.\")\n",
        "print(\"Estou aprendendo Python.\")\n",
        "print(\"Estou aprendendo Python.\")\n",
        "print(\"Estou aprendendo Python.\")\n",
        "print(\"Estou aprendendo Python.\")"
      ],
      "metadata": {
        "colab": {
          "base_uri": "https://localhost:8080/"
        },
        "id": "0YTqFYVEKc3Y",
        "outputId": "9f4320ff-cebe-4cb2-88a9-f8456b0c9c6e"
      },
      "execution_count": 6,
      "outputs": [
        {
          "output_type": "stream",
          "name": "stdout",
          "text": [
            "Estou aprendendo Python.\n",
            "Estou aprendendo Python.\n",
            "Estou aprendendo Python.\n",
            "Estou aprendendo Python.\n",
            "Estou aprendendo Python.\n"
          ]
        }
      ]
    },
    {
      "cell_type": "code",
      "source": [
        "print(\"Python \\n Maravilha!\")"
      ],
      "metadata": {
        "colab": {
          "base_uri": "https://localhost:8080/"
        },
        "id": "hsWflfb1KyRj",
        "outputId": "12335d08-e125-471f-b1b1-1b712289f14a"
      },
      "execution_count": 7,
      "outputs": [
        {
          "output_type": "stream",
          "name": "stdout",
          "text": [
            "Python \n",
            " Maravilha!\n"
          ]
        }
      ]
    },
    {
      "cell_type": "code",
      "source": [
        "print(\"Python pode usar \\t tabulação!\")"
      ],
      "metadata": {
        "colab": {
          "base_uri": "https://localhost:8080/"
        },
        "id": "S6PixzWlLFbB",
        "outputId": "e9a708a4-0131-4811-9595-0c7827ddfcdb"
      },
      "execution_count": 8,
      "outputs": [
        {
          "output_type": "stream",
          "name": "stdout",
          "text": [
            "Python pode usar \t tabulação!\n"
          ]
        }
      ]
    },
    {
      "cell_type": "code",
      "source": [
        "print(\"No Python equivale \\r um enter\")"
      ],
      "metadata": {
        "colab": {
          "base_uri": "https://localhost:8080/"
        },
        "id": "hUdNrfs4LQX0",
        "outputId": "4c036445-cecf-49ca-fb08-a36c1f0270f3"
      },
      "execution_count": 9,
      "outputs": [
        {
          "output_type": "stream",
          "name": "stdout",
          "text": [
            "No Python equivale \r um enter\n"
          ]
        }
      ]
    },
    {
      "cell_type": "code",
      "source": [
        "print(\"Imprima o \\ '\")"
      ],
      "metadata": {
        "colab": {
          "base_uri": "https://localhost:8080/"
        },
        "id": "wSosx7lcLpPh",
        "outputId": "8a49d46e-45a4-4165-c603-9edd9c5f66d3"
      },
      "execution_count": 10,
      "outputs": [
        {
          "output_type": "stream",
          "name": "stdout",
          "text": [
            "Imprima o \\ '\n"
          ]
        }
      ]
    },
    {
      "cell_type": "code",
      "source": [
        "print(\"Python é uma \", end=\"##### \")\n",
        "print(\"Maravilha!\")"
      ],
      "metadata": {
        "colab": {
          "base_uri": "https://localhost:8080/"
        },
        "id": "PVMYiOciLpTR",
        "outputId": "6208e4a1-40be-4107-f4c9-c9a045bd4c77"
      },
      "execution_count": 12,
      "outputs": [
        {
          "output_type": "stream",
          "name": "stdout",
          "text": [
            "Python é uma ##### Maravilha!\n"
          ]
        }
      ]
    },
    {
      "cell_type": "code",
      "source": [
        "print(\"A\", \"B\", \"C\", 0, sep=\"*\")"
      ],
      "metadata": {
        "colab": {
          "base_uri": "https://localhost:8080/"
        },
        "id": "dswLHyyiMIip",
        "outputId": "50866528-fcf4-43b3-e362-711300de3dfa"
      },
      "execution_count": 13,
      "outputs": [
        {
          "output_type": "stream",
          "name": "stdout",
          "text": [
            "A*B*C*0\n"
          ]
        }
      ]
    },
    {
      "cell_type": "code",
      "source": [
        "print(\"A\", \"B\", \"C\", 0, sep=\"\\n\")"
      ],
      "metadata": {
        "colab": {
          "base_uri": "https://localhost:8080/"
        },
        "id": "7wo_I1sGMfxm",
        "outputId": "68c6fd78-6da9-457d-b98e-5444d88e1868"
      },
      "execution_count": 14,
      "outputs": [
        {
          "output_type": "stream",
          "name": "stdout",
          "text": [
            "A\n",
            "B\n",
            "C\n",
            "0\n"
          ]
        }
      ]
    },
    {
      "cell_type": "code",
      "source": [
        "#Criando minha árvore\n",
        "print(\"    *    \")\n",
        "print(\"   ***   \")\n",
        "print(\"  *****  \")\n",
        "print(\" ******* \")\n",
        "print(\"*********\")\n",
        "print(\"    |    \")"
      ],
      "metadata": {
        "colab": {
          "base_uri": "https://localhost:8080/"
        },
        "id": "VcNWwV0fMqOe",
        "outputId": "f32a3bab-c3ad-4183-fb27-47801e425255"
      },
      "execution_count": 15,
      "outputs": [
        {
          "output_type": "stream",
          "name": "stdout",
          "text": [
            "    *    \n",
            "   ***   \n",
            "  *****  \n",
            " ******* \n",
            "*********\n",
            "    |    \n"
          ]
        }
      ]
    },
    {
      "cell_type": "code",
      "source": [
        "#Listar os tipos de dados conforme valores das variáveis\n",
        "\n",
        "x=1\n",
        "y=2.0\n",
        "soma = 5+5\n",
        "nome = \"Rômulo\"\n",
        "sobrenome = 'Cesar'\n",
        "ligado = True\n",
        "\n",
        "print(f\"{x},{y},{soma},{nome},{sobrenome}{ligado}\")\n",
        "print(f\"{type(x)},{type(y)},{type(soma)},{type(nome)},{type(sobrenome)},{type(ligado)}\")"
      ],
      "metadata": {
        "colab": {
          "base_uri": "https://localhost:8080/"
        },
        "id": "qyR3pbqeNYW4",
        "outputId": "866f2627-d9d7-48aa-ace7-d90c7ffc7883"
      },
      "execution_count": 16,
      "outputs": [
        {
          "output_type": "stream",
          "name": "stdout",
          "text": [
            "1,2.0,10,Rômulo,CesarTrue\n",
            "<class 'int'>,<class 'float'>,<class 'int'>,<class 'str'>,<class 'str'>,<class 'bool'>\n"
          ]
        }
      ]
    },
    {
      "cell_type": "code",
      "source": [
        "nome = 10 #é um tipo string?\n",
        "romulo = 45 #é uma string?\n",
        "desligado = \"sim\" #é um tipo string?\n",
        "\n",
        "print(type(nome))\n",
        "print(type(romulo))\n",
        "print(type(desligado))"
      ],
      "metadata": {
        "colab": {
          "base_uri": "https://localhost:8080/"
        },
        "id": "5gI42bX5O2oY",
        "outputId": "bd81dc88-24a8-4cc1-c005-934b9b8a53eb"
      },
      "execution_count": 20,
      "outputs": [
        {
          "output_type": "stream",
          "name": "stdout",
          "text": [
            "<class 'int'>\n",
            "<class 'int'>\n",
            "<class 'str'>\n"
          ]
        }
      ]
    },
    {
      "cell_type": "code",
      "source": [
        "#Considere a seguinte variável:\n",
        "valor = 2.718281\n",
        "print(f\"Formatando casas decimais:{valor:.2f}\")"
      ],
      "metadata": {
        "colab": {
          "base_uri": "https://localhost:8080/"
        },
        "id": "U32079E3PZ1A",
        "outputId": "048dba72-752f-423a-c86b-c742731bfcd4"
      },
      "execution_count": 21,
      "outputs": [
        {
          "output_type": "stream",
          "name": "stdout",
          "text": [
            "Formatando casas decimais:2.72\n"
          ]
        }
      ]
    },
    {
      "cell_type": "code",
      "source": [
        "PI = 3.141592653589793\n",
        "\n",
        "print(f\"O valor de PI com duas casas decimais é {PI:.2f}\")"
      ],
      "metadata": {
        "colab": {
          "base_uri": "https://localhost:8080/"
        },
        "id": "QJixJyq9Pwz_",
        "outputId": "14dfd45e-a5f7-4a6a-9567-bb27e566c551"
      },
      "execution_count": 22,
      "outputs": [
        {
          "output_type": "stream",
          "name": "stdout",
          "text": [
            "O valor de PI com duas casas decimais é 3.14\n"
          ]
        }
      ]
    },
    {
      "cell_type": "code",
      "source": [
        "delta = -40\n",
        "\n",
        "if delta > 0:\n",
        "    print(\"O valor é maior que zero.\")\n",
        "elif delta < 0:\n",
        "    print(\"O valor é menor que zero.\")\n",
        "else:\n",
        "    print(\"O valor é igual a zero.\")"
      ],
      "metadata": {
        "colab": {
          "base_uri": "https://localhost:8080/"
        },
        "id": "6F8lF9wXQWsO",
        "outputId": "d8aa0f80-3962-4e88-a4f7-22579b822ae1"
      },
      "execution_count": 31,
      "outputs": [
        {
          "output_type": "stream",
          "name": "stdout",
          "text": [
            "O valor é menor que zero.\n"
          ]
        }
      ]
    },
    {
      "cell_type": "code",
      "source": [
        "matriz_4x3 = 21, 22, 23, 24, 25, 26, 27, 28, 29, 30, 31, 32\n",
        "\n",
        "print(matriz_4x3)"
      ],
      "metadata": {
        "colab": {
          "base_uri": "https://localhost:8080/"
        },
        "id": "oFTKW8-eR5Pu",
        "outputId": "22303f48-bf6a-4e15-97f1-e9b4505966bd"
      },
      "execution_count": 37,
      "outputs": [
        {
          "output_type": "stream",
          "name": "stdout",
          "text": [
            "(21, 22, 23, 24, 25, 26, 27, 28, 29, 30, 31, 32)\n"
          ]
        }
      ]
    },
    {
      "cell_type": "code",
      "source": [
        "global_var = 10\n",
        "\n",
        "def minha_funcao():\n",
        "\n",
        "  local_var = 20\n",
        "\n",
        "  print(\"Variável local dentro da função:\", local_var)\n",
        "  print(\"Variável global dentro da função:\", global_var)\n",
        "\n",
        "minha_funcao()\n",
        "\n",
        "print(\"Variável global fora da função:\", global_var)"
      ],
      "metadata": {
        "colab": {
          "base_uri": "https://localhost:8080/"
        },
        "id": "0zHiFKDcR7iF",
        "outputId": "26ec47c0-b63e-4d81-b92a-1a45c4a0bf7d"
      },
      "execution_count": 43,
      "outputs": [
        {
          "output_type": "stream",
          "name": "stdout",
          "text": [
            "Variável local dentro da função: 20\n",
            "Variável global dentro da função: 10\n",
            "Variável global fora da função: 10\n"
          ]
        }
      ]
    },
    {
      "cell_type": "code",
      "source": [
        "#Comentando os dois tipos de váriaveis em função\n",
        "print(\"Tipo 1 - Locais: São definidas dentro de uma função e só podem ser acessadas dentro dessa função.\")\n",
        "print(\"Tipo 2 - Globais: São definidas fora de qualquer função e podem ser acessadas de qualquer parte do programa.\")"
      ],
      "metadata": {
        "colab": {
          "base_uri": "https://localhost:8080/"
        },
        "id": "xiMmTS5zXFoi",
        "outputId": "860db945-b618-49df-89b1-a8225ffcb78f"
      },
      "execution_count": 49,
      "outputs": [
        {
          "output_type": "stream",
          "name": "stdout",
          "text": [
            "Tipo 1 - Locais: São definidas dentro de uma função e só podem ser acessadas dentro dessa função.\n",
            "Tipo 2 - Globais: São definidas fora de qualquer função e podem ser acessadas de qualquer parte do programa.\n"
          ]
        }
      ]
    }
  ]
}